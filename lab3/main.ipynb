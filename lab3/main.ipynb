{
 "cells": [
  {
   "cell_type": "code",
   "execution_count": null,
   "id": "initial_id",
   "metadata": {
    "ExecuteTime": {
     "end_time": "2024-09-29T21:06:02.680644900Z",
     "start_time": "2024-09-29T21:06:02.634438400Z"
    }
   },
   "outputs": [],
   "source": [
    "import pandas as pd\n",
    "import matplotlib.pyplot as plt\n",
    "import numpy as np\n",
    "\n",
    "from sklearn.preprocessing import LabelEncoder\n",
    "from sklearn.preprocessing import StandardScaler\n",
    "from sklearn.model_selection import train_test_split\n"
   ]
  },
  {
   "cell_type": "markdown",
   "id": "67f807d771485a19",
   "metadata": {
    "collapsed": false
   },
   "source": [
    "### Данные"
   ]
  },
  {
   "cell_type": "code",
   "execution_count": null,
   "id": "5760e7f55713cab5",
   "metadata": {
    "ExecuteTime": {
     "end_time": "2024-09-29T21:06:02.712671400Z",
     "start_time": "2024-09-29T21:06:02.684668200Z"
    },
    "collapsed": false
   },
   "outputs": [],
   "source": [
    "data = pd.read_csv('Student_Performance.csv')\n",
    "data"
   ]
  },
  {
   "cell_type": "markdown",
   "id": "7e350516236ad386",
   "metadata": {
    "collapsed": false
   },
   "source": [
    "**Загрузили датасет**"
   ]
  },
  {
   "cell_type": "code",
   "execution_count": null,
   "id": "df2e37aa93c55829",
   "metadata": {
    "ExecuteTime": {
     "end_time": "2024-09-29T21:06:02.779815700Z",
     "start_time": "2024-09-29T21:06:02.702671500Z"
    },
    "collapsed": false
   },
   "outputs": [],
   "source": [
    "data.info()\n",
    "data.describe()"
   ]
  },
  {
   "cell_type": "markdown",
   "id": "f636437c9210a223",
   "metadata": {
    "collapsed": false
   },
   "source": [
    "**Получили описание датасета:**\n",
    "+ 6 столбцов:\n",
    "    + Hours Studied (кол-во часов учебы)\n",
    "    + Previous Scores (баллы, полученные в предыдущих тестах)\n",
    "    + Extracurricular Activities (внеклассные занятия да/нет)\n",
    "    + Sleep Hours (кол-во часов сна)\n",
    "    + Sample Question Papers Practiced (примеры отработанных заданий)\n",
    "    + Performance Index (успеваемость)\n",
    "+ 10000 строк "
   ]
  },
  {
   "cell_type": "markdown",
   "id": "b9cba5ab30efafc7",
   "metadata": {
    "collapsed": false
   },
   "source": [
    "### Визуализация данных"
   ]
  },
  {
   "cell_type": "code",
   "execution_count": null,
   "id": "ee9a9b94e574e16f",
   "metadata": {
    "ExecuteTime": {
     "end_time": "2024-09-29T21:06:03.711743500Z",
     "start_time": "2024-09-29T21:06:02.732669200Z"
    },
    "collapsed": false
   },
   "outputs": [],
   "source": [
    "statistic = data.describe()\n",
    "\n",
    "# Выбор нужных статистик\n",
    "mean_values = statistic.loc['mean']\n",
    "std_values = statistic.loc['std']\n",
    "count_values = statistic.loc['count']\n",
    "min_values = statistic.loc['min']\n",
    "quarter_values = statistic.loc['25%']\n",
    "half_values = statistic.loc['50%']\n",
    "three_quarters_values = statistic.loc['75%']\n",
    "max_values = statistic.loc['max']\n",
    "\n",
    "value_array = [min_values, max_values, quarter_values, half_values, three_quarters_values, mean_values, std_values, count_values]\n",
    "graf_names = ['минимальное значение', 'максимальное значение',\n",
    "              '25% значений', '50% значений',\n",
    "              '75% значений', 'среднее значение',\n",
    "              'стандартное отклонение', 'количество']\n",
    "\n",
    "# Размер графика\n",
    "plt.figure(figsize=(10, 10))\n",
    "\n",
    "for i in range(1, 9):\n",
    "    plt.subplot(4, 2, i)\n",
    "    value_array[i-1].plot(kind='barh')\n",
    "    plt.title(graf_names[i-1])   \n",
    "\n",
    "plt.tight_layout()\n",
    "plt.show()"
   ]
  },
  {
   "cell_type": "markdown",
   "id": "7124ed18ded703c1",
   "metadata": {
    "collapsed": false
   },
   "source": [
    "### Предварительная обработка данных\n",
    "\n",
    "1. Для **обработки отсутствующих значений** используем *.dropna()*. Эта функция удаляет строки, если в них есть пустые значения\n",
    "2. Модели машинного обучения работают только с числовыми данными, поэтому **категориальные признаки** нужно преобразовать в числовые. Для этого есть два метода:\n",
    "    + One-Hot Encoding: преобразует каждое категориальное значение в отдельную бинарную колонку. Для каждого уникального значения создается новая колонка с 0 или 1, показывающее, присутствует ли это значение.\n",
    "    + Label Encoding: преобразует категориальные значения в числовые. Каждый уникальный категориальный элемент получает свое числовое значение. Больше подходит для бинарных данных, поэтому выберем этот способ для столбца Extracurricular Activities.\n",
    "3. **Нормировка данных** (нормализация) - процесс преобразования значений числовых признаков так, чтобы они находились в одном диапазоне. Это важно, так как линейная регрессия чувствительна к разбросам. Есть два метода нормализации данных:\n",
    "    + Min-Max Scaling: преобразует данные так, чтобы они находились в заданном диапазоне (обычно \\[0, 1])\n",
    "        + Чувствителен к выбросам: выбросы существенно меняют диапазон, а значит и нормализованные значения\n",
    "        + Не подходит для данных с сильно различающимися диапазонами\n",
    "    + Standardization (Z-score Normalization): преобразует данные так, чтобы они имели среднее значение 0 и стандартное отклонение 1\n",
    "        + Не чувствителен к выбросам, так как использует среднее и стандартное отклонение"
   ]
  },
  {
   "cell_type": "code",
   "execution_count": null,
   "id": "600e119acab728c5",
   "metadata": {
    "ExecuteTime": {
     "end_time": "2024-09-29T21:06:03.857245900Z",
     "start_time": "2024-09-29T21:06:03.707743600Z"
    },
    "collapsed": false
   },
   "outputs": [],
   "source": [
    "# Обработка отсутствующих значений (удаляет строки с отсутствующими значениями)\n",
    "data = data.dropna()\n",
    "\n",
    "# Применяем кодирование для Extracurricular Activities\n",
    "data['Extracurricular Activities'] = LabelEncoder().fit_transform(data['Extracurricular Activities'])\n",
    "\n",
    "# Нормировка данных\n",
    "numerical_columns = data.select_dtypes(include=['int64', 'float64']).columns\n",
    "scaler = StandardScaler()\n",
    "data[numerical_columns] = scaler.fit_transform(data[numerical_columns])\n",
    "\n",
    "data"
   ]
  },
  {
   "cell_type": "markdown",
   "id": "b85a64abf32c85c1",
   "metadata": {
    "collapsed": false
   },
   "source": [
    "### Разделение данных на обучающие и тестовые\n",
    "\n",
    "Разделение данных происходит при помощи функции *train_test_split()*, которая разделяет датафреймы на случайные обучающие и тестовые наборы.\n",
    "+ test_size=0.2 - 20% данных пойдут в тестовый набор, остальное в обучающий\n",
    "+ random_state=42 - позволяет получать одинаковые результаты при каждом запуске кода"
   ]
  },
  {
   "cell_type": "code",
   "execution_count": null,
   "id": "3ee047a7dad78b26",
   "metadata": {
    "ExecuteTime": {
     "end_time": "2024-09-29T21:06:03.857245900Z",
     "start_time": "2024-09-29T21:06:03.742858700Z"
    },
    "collapsed": false
   },
   "outputs": [],
   "source": [
    "X = data.drop('Performance Index', axis=1) # все признаки кроме целевого\n",
    "y = data['Performance Index'] # целевой признак\n",
    "\n",
    "# Разделение на обучающий и тестовый наборы\n",
    "X_train, X_test, y_train, y_test = train_test_split(X, y, test_size=0.2, random_state=42)"
   ]
  },
  {
   "cell_type": "markdown",
   "id": "97533f465557f7ef",
   "metadata": {
    "collapsed": false
   },
   "source": [
    "### Линейная регрессия методом наименьших квадратов\n",
    "\n",
    "**Интерспет** - это значение, которое принимает целевая переменная y, когда все независимые переменные X равны нулю. В графическом представлении, интерсепт - это точка пересечения линии регрессии с ОY.\n",
    " \n",
    "\n",
    "###### Объяснение:\n",
    "np.ones((X.shape\\[0], 1)) создает массив, состоящий из единиц, кол-во строк равно кол-ву образцов данных X.\n",
    "\n",
    "np.c_ объединяет массив единиц с оригинальной матрицей признаков X.\n",
    "\n",
    "X_b.T - транспортированная матрица X_b.\n",
    "\n",
    "X_b.T.dot(X_b) - умножение транспонированной матрицы X_b на матрицу X_b. Создает квадратную матрицу, необходимую для вычисления.\n",
    "\n",
    "np.linalg.inv() - находит обратную матрицу. \n",
    "\n",
    "dot(y) умножает полученную матрицу на вектор целевого y (значения которого мы хотим предсказать).\n",
    "\n",
    "y=β0+β1⋅x1+β2⋅x2+...+βn⋅xn\n",
    "\n",
    "###### Порядок вычислений:\n",
    "1. Составляем матрицу признаков со столбцом интерсепта\n",
    "2. $beta=(X_b^T*X_b)^{-1}*X_b^T*y$\n",
    "\n",
    "###### Пример решения:\n",
    "\n",
    "| $x_1$ | $y_1$ |\n",
    "| ----- | ----- |\n",
    "| 1     | 4     |\n",
    "| 5     | 1     |\n",
    "| 3     | 7     |\n",
    "| 7     | 4     |\n",
    "\n",
    "1. $X_b=\\begin{pmatrix}1&1\\\\1&5\\\\1&3\\\\1&7\\end{pmatrix}$ $y=\\begin{pmatrix}4\\\\1\\\\7\\\\4\\end{pmatrix}$\n",
    "2. $X_b^T*X_b=\\begin{pmatrix}1&1&1&1\\\\1&5&3&7\\end{pmatrix}*\\begin{pmatrix}1&1\\\\1&5\\\\1&3\\\\1&7\\end{pmatrix}=\\begin{pmatrix}4&16\\\\16&84\\end{pmatrix}$ \n",
    "3.  $(X_b^T*X_b)^{-1}=\\begin{pmatrix}1.05&-0.2\\\\-0.2&0.05\\end{pmatrix}$\n",
    "4. $beta=(X_b^T*X_b)^{-1}*X_b^T*y=\\begin{pmatrix}5.2\\\\-0.3\\end{pmatrix}$\n",
    "\n",
    "beta - параметры модели, которые определяют как изменение каждого признака влияет на целевую переменную."
   ]
  },
  {
   "cell_type": "code",
   "execution_count": null,
   "id": "a4b9749cccab1fd9",
   "metadata": {
    "ExecuteTime": {
     "end_time": "2024-09-29T21:06:03.873245900Z",
     "start_time": "2024-09-29T21:06:03.755923200Z"
    },
    "collapsed": false
   },
   "outputs": [],
   "source": [
    "def linear_regression(X, y):\n",
    "    # Добавляем столбец единиц для интерсепта \n",
    "    X_b = np.c_[np.ones((X.shape[0], 1)), X] # добавляем x0 = 1 для интерсепта\n",
    "    # Используем формулу нормальных уравнений для вычисления коэффициентов\n",
    "    beta = np.linalg.inv(X_b.T.dot(X_b)).dot(X_b.T).dot(y)\n",
    "    return beta\n"
   ]
  },
  {
   "cell_type": "markdown",
   "id": "d6164c4b8b7ff33",
   "metadata": {
    "collapsed": false
   },
   "source": [
    "### Постройка трех моделей с различными наборами признаков\n",
    "\n",
    "#### Модели и наборы данных\n",
    "\n",
    "+ **Модель 1**: Все доступные признаки.\n",
    "+ **Модель 2**: Количество часов сна.\n",
    "+ **Модель 3**: Все признаки, кроме Sleep Hours \n",
    "\n",
    "#### Списки для хранения результатов\n",
    "+ **models**: Словарь с моделями и соответствующими признаками.\n",
    "+ **betas**: Словарь, в который будут записаны коэффициенты (веса) для каждой модели после выполнения линейной регрессии.\n",
    "+ **scores**: Словарь для хранения метрики $R^2$ для каждой модели\n",
    "\n",
    "\\***коэффициенты или веса** - это параметры модели, которые определяют влияние каждого признака на предсказание целевого значения.\n",
    "+ Положительный вес означает, что увеличение значения признака ведет к увеличению предсказанного значения.\n",
    "+ Отрицательный вес означает, что увеличение значения признака ведет к уменьшению предсказанного значения.\n",
    "+ Нулевой вес говорит о том, что признак не влияет на предсказанное значение.\n",
    "Модель обучается таким образом, чтобы найти такие значения весов, которые минимизируют ошибку между предсказанными значениями и реальным значениями y.\n",
    "\n",
    "### Предсказанные значения\n",
    "```\n",
    "y_pred = np.c_[np.ones((X_model.shape[0], 1)), X_model].dot(betas[model_name])\n",
    "```\n",
    "+ np.c_ объединяет массив единиц с матрицей признаков X_model.\n",
    "+ np.ones((X_model.shape[0], 1)) создает двумерный массив (матрицу) из единиц, где\n",
    "    + X_model.shape[0] - это количество строк в матрице X_model\n",
    "    + 1 - количество столбцов\n",
    "+ .dot(betas[model_name]) умножаем матрицу с добавленным интерсептом на вектор коэффициентов для получения предсказанных значений y_pred.\n",
    "\n",
    "### Вычисление коэффициента детерминации ($R^2$)\n",
    "```\n",
    "r2_score = 1 - (np.sum((y_train.values - y_pred) ** 2) / np.sum((y_train.values - np.mean(y_train.values)) ** 2))\n",
    "scores[model_name] = r2_score\n",
    "```\n",
    "\n",
    "\\***$R^2$(коэффициент детерминации)** - показатель оценки качества модели регрессии. Показывает, насколько хорошо модель описывает данные. Помогает измерить, насколько хорошо предсказанные значения модели соответствуют реальным значениям целевой переменной.\n",
    "$$\n",
    "R^2=1-\\frac{\\sum{(y_{истинные}-y_{предсказанные})^2}}{\\sum{(y_{истинные}-\\vec{y})^2}}\n",
    "$$"
   ]
  },
  {
   "cell_type": "code",
   "execution_count": null,
   "id": "8169e468431bf8de",
   "metadata": {
    "ExecuteTime": {
     "end_time": "2024-09-29T21:06:03.874244900Z",
     "start_time": "2024-09-29T21:06:03.773006600Z"
    },
    "collapsed": false
   },
   "outputs": [],
   "source": [
    "print(data.head())\n",
    "\n",
    "# Модель 1\n",
    "X1 = X_train\n",
    "\n",
    "# Модель 2\n",
    "X2 = X_train[['Sleep Hours']]\n",
    "\n",
    "# Модель 3\n",
    "X3 = X_train.drop('Sleep Hours', axis=1)\n",
    "\n",
    "# Списки для хранения результатов\n",
    "models = {'Model 1': X1, 'Model 2': X2, 'Model 3': X3}\n",
    "betas = {}\n",
    "scores = {}\n",
    "\n",
    "# Для каждой модели вычисляем коэффициенты и R^2\n",
    "for model_name, X_model in models.items():\n",
    "    # Рассчет коэффициентов линейной регрессии\n",
    "    betas[model_name] = linear_regression(X_model.values, y_train.values)\n",
    "    \n",
    "    # Предсказанные значения на обучающем наборе\n",
    "    y_pred = np.c_[np.ones((X_model.shape[0], 1)), X_model].dot(betas[model_name])\n",
    "    \n",
    "    # Рассчитываем R^2\n",
    "    r2_score = 1 - (np.sum((y_train.values - y_pred) ** 2) / np.sum((y_train.values - np.mean(y_train.values)) ** 2))\n",
    "    scores[model_name] = r2_score"
   ]
  },
  {
   "cell_type": "code",
   "execution_count": null,
   "id": "b804b4f51d62ae10",
   "metadata": {
    "ExecuteTime": {
     "end_time": "2024-09-29T21:06:03.874244900Z",
     "start_time": "2024-09-29T21:06:03.788063600Z"
    },
    "collapsed": false
   },
   "outputs": [],
   "source": [
    "# Выводим результаты\n",
    "for model_name in scores:\n",
    "    print(f\"{model_name}:\")\n",
    "    print(f\"  Coefficients: {betas[model_name]}\")\n",
    "    print(f\"  R² Score: {scores[model_name]}\\n\")"
   ]
  },
  {
   "cell_type": "markdown",
   "id": "15a64590214d258e",
   "metadata": {
    "collapsed": false
   },
   "source": [
    "### Выводы на основе результатов\n",
    "\n",
    "##### Model 1 (полный набор признаков)\n",
    "+ **Коэффициенты**: Модель включает все доступные признаки. Коэффициенты показывают, что каждый признак влияет на целевой показатель (Performance Index). Самое значимое влияние оказывают Hours Studied и Sleep Hours.\n",
    "+ **$R^2$Score: 0.9887**: Эта модель показывает очень высокую точность, почти 99% объясненной дисперсии, это говорит нам о том, что включение всех признаков позволяет очень хорошо предсказывать целевой показатель.\n",
    "##### Model 2 (только Sleep Hours)\n",
    "+ **Коэффициенты**: Модель использует только признак Sleep Hours и константный интерсепт. Судя по коэффициенту, Sleep Hours сам по себе почти не объясняет вариацию целевого признака.\n",
    "+ **$R^2$Score: 0.002**: Эта модель крайне неэффективна. Использование одного признака Sleep Hours почти не помогает предсказать целевой показатель.\n",
    "##### Model 3 (все признаки, кроме Sleep Hours)\n",
    "+ **Коэффициенты**: Эта модель включает все признаки кроме Sleep Hours.\n",
    "+ **$R^2$Score: 0.9869**: Способности модели близки к первой, что подтверждает, что Sleep Hours не имеет сильного влияния.\n",
    "\n",
    "Почему получилось так, что в первой модели Sleep Hours имеет высокий коэффициент, но при этом несильно влияет на предсказание? \n",
    "+ Sleep Hours коррелирует с другими признаками, например, Hours Studied\n",
    "+ Мультиколлинеарность. Это означает, что несколько признаков могут давать схожую информацию и перекрывать влияние друг друга. Это может приводить к высокой оценке коэффициента, даже если признак сам по себе не является значимым."
   ]
  },
  {
   "cell_type": "code",
   "execution_count": null,
   "id": "9db629f2242db6c2",
   "metadata": {
    "ExecuteTime": {
     "end_time": "2024-09-29T21:30:14.989122900Z",
     "start_time": "2024-09-29T21:30:14.968121300Z"
    },
    "collapsed": false
   },
   "outputs": [],
   "source": [
    "# Бонусное задание: синтетический признак\n",
    "data['Synthetic Feature'] = data['Hours Studied'] * data['Previous Scores']\n",
    "\n",
    "# Обновляем данные для обучения и тестирования с новым синтетическим признаком\n",
    "X_new = data.drop('Performance Index', axis=1)\n",
    "X_train_new, X_test_new, y_train_new, y_test_new = train_test_split(X_new, y, test_size=0.2, random_state=42)\n",
    "\n",
    "# Обучение новой модели с синтетическим признаком\n",
    "beta_new_model = linear_regression(X_train_new.values, y_train_new.values)\n",
    "\n",
    "# Предсказанные значения для новой модели на обучающей выборке\n",
    "y_pred_new = np.c_[np.ones((X_train_new.shape[0], 1)), X_train_new].dot(beta_new_model)\n",
    "\n",
    "# Рассчитываем R^2 для новой модели с синтетическим признаком\n",
    "r2_score_new = 1 - (np.sum((y_train_new.values - y_pred_new) ** 2) / np.sum((y_train_new.values - np.mean(y_train_new.values)) ** 2))\n",
    "\n",
    "print(f'R^2 для модели с синтетическим признаком: {r2_score_new}')\n",
    "\n",
    "# Сравнение с предыдущими моделями\n",
    "models['Model with Synthetic Feature'] = X_train_new\n",
    "scores['Model with Synthetic Feature'] = r2_score_new\n",
    "betas['Model with Synthetic Feature'] = y_pred_new\n",
    "\n",
    "# Вывод всех оценок\n",
    "for model_name in scores:\n",
    "    print(f\"{model_name}:\")\n",
    "    print(f\"  Coefficients: {betas[model_name]}\")\n",
    "    print(f\"  R² Score: {scores[model_name]}\\n\")\n"
   ]
  },
  {
   "cell_type": "markdown",
   "id": "41d5b3fe76289c5f",
   "metadata": {
    "collapsed": false
   },
   "source": [
    "##### Model with Synthetic Feature (Hours Studied * Previous Scores)\n",
    "+ **Коэффициенты**: Отрицательные коэффициенты указывают на то, что, при увеличении этих признаков, значение Performance Index будет уменьшаться. Это можно объяснить тем, что студенты, которые больше спят, тратят меньше времени на учебу, что влияет на Performance Index.\n",
    "+ **$R^2$Score: 0.9869**: Коэффициент имеет очень высокий показатель, что говорит о том, что такая вариация хорошо подходит для данных."
   ]
  }
 ],
 "metadata": {
  "kernelspec": {
   "display_name": "Python 3 (ipykernel)",
   "language": "python",
   "name": "python3"
  },
  "language_info": {
   "codemirror_mode": {
    "name": "ipython",
    "version": 3
   },
   "file_extension": ".py",
   "mimetype": "text/x-python",
   "name": "python",
   "nbconvert_exporter": "python",
   "pygments_lexer": "ipython3",
   "version": "3.10.5"
  }
 },
 "nbformat": 4,
 "nbformat_minor": 5
}
