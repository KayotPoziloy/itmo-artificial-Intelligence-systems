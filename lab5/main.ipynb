{
 "cells": [
  {
   "cell_type": "code",
   "execution_count": 22,
   "id": "initial_id",
   "metadata": {
    "collapsed": true,
    "ExecuteTime": {
     "end_time": "2024-10-28T11:43:28.401032700Z",
     "start_time": "2024-10-28T11:43:28.388007600Z"
    }
   },
   "outputs": [],
   "source": [
    "import pandas as pd\n",
    "import numpy as np"
   ]
  },
  {
   "cell_type": "markdown",
   "source": [
    "### Данные"
   ],
   "metadata": {
    "collapsed": false
   },
   "id": "cfa821e2efa9fca1"
  },
  {
   "cell_type": "code",
   "outputs": [
    {
     "data": {
      "text/plain": "     Student Age  Sex  Graduated high-school type  Scholarship type  \\\n0              2    2                           3                 3   \n1              2    2                           3                 3   \n2              2    2                           2                 3   \n3              1    1                           1                 3   \n4              2    2                           1                 3   \n..           ...  ...                         ...               ...   \n140            2    1                           2                 3   \n141            1    1                           2                 4   \n142            1    1                           1                 4   \n143            2    1                           2                 4   \n144            1    1                           1                 5   \n\n     Additional work  Regular artistic or sports activity  \\\n0                  1                                    2   \n1                  1                                    2   \n2                  2                                    2   \n3                  1                                    2   \n4                  2                                    2   \n..               ...                                  ...   \n140                1                                    1   \n141                2                                    2   \n142                2                                    2   \n143                1                                    1   \n144                2                                    2   \n\n     Do you have a partner  Total salary if available  \\\n0                        2                          1   \n1                        2                          1   \n2                        2                          2   \n3                        1                          2   \n4                        1                          3   \n..                     ...                        ...   \n140                      2                          1   \n141                      2                          1   \n142                      2                          1   \n143                      1                          5   \n144                      2                          3   \n\n     Transportation to the university  Accomodation type in Cyprus  ...  \\\n0                                   1                            1  ...   \n1                                   1                            1  ...   \n2                                   4                            2  ...   \n3                                   1                            2  ...   \n4                                   1                            4  ...   \n..                                ...                          ...  ...   \n140                                 1                            2  ...   \n141                                 4                            2  ...   \n142                                 1                            1  ...   \n143                                 2                            3  ...   \n144                                 1                            1  ...   \n\n     Preparation to midterm exams 1  Preparation to midterm exams 2  \\\n0                                 1                               1   \n1                                 1                               1   \n2                                 1                               1   \n3                                 1                               2   \n4                                 2                               1   \n..                              ...                             ...   \n140                               1                               1   \n141                               1                               1   \n142                               1                               1   \n143                               2                               1   \n144                               2                               1   \n\n     Taking notes in classes  Listening in classes  \\\n0                          3                     2   \n1                          3                     2   \n2                          2                     2   \n3                          3                     2   \n4                          2                     2   \n..                       ...                   ...   \n140                        2                     1   \n141                        3                     2   \n142                        3                     3   \n143                        2                     1   \n144                        3                     2   \n\n     Discussion improves my interest and success in the course  \\\n0                                                    1           \n1                                                    3           \n2                                                    1           \n3                                                    2           \n4                                                    2           \n..                                                 ...           \n140                                                  2           \n141                                                  2           \n142                                                  2           \n143                                                  2           \n144                                                  3           \n\n     Flip-classroom  \\\n0                 2   \n1                 2   \n2                 1   \n3                 1   \n4                 1   \n..              ...   \n140               1   \n141               1   \n142               1   \n143               1   \n144               1   \n\n     Cumulative grade point average in the last semester (/4.00)  \\\n0                                                    1             \n1                                                    2             \n2                                                    2             \n3                                                    3             \n4                                                    2             \n..                                                 ...             \n140                                                  3             \n141                                                  5             \n142                                                  4             \n143                                                  5             \n144                                                  5             \n\n     Expected Cumulative grade point average in the graduation (/4.00)  \\\n0                                                    1                   \n1                                                    3                   \n2                                                    2                   \n3                                                    2                   \n4                                                    2                   \n..                                                 ...                   \n140                                                  3                   \n141                                                  3                   \n142                                                  3                   \n143                                                  3                   \n144                                                  4                   \n\n     COURSE ID  Success  \n0            1        0  \n1            1        0  \n2            1        0  \n3            1        0  \n4            1        0  \n..         ...      ...  \n140          9        1  \n141          9        1  \n142          9        0  \n143          9        1  \n144          9        1  \n\n[145 rows x 32 columns]",
      "text/html": "<div>\n<style scoped>\n    .dataframe tbody tr th:only-of-type {\n        vertical-align: middle;\n    }\n\n    .dataframe tbody tr th {\n        vertical-align: top;\n    }\n\n    .dataframe thead th {\n        text-align: right;\n    }\n</style>\n<table border=\"1\" class=\"dataframe\">\n  <thead>\n    <tr style=\"text-align: right;\">\n      <th></th>\n      <th>Student Age</th>\n      <th>Sex</th>\n      <th>Graduated high-school type</th>\n      <th>Scholarship type</th>\n      <th>Additional work</th>\n      <th>Regular artistic or sports activity</th>\n      <th>Do you have a partner</th>\n      <th>Total salary if available</th>\n      <th>Transportation to the university</th>\n      <th>Accomodation type in Cyprus</th>\n      <th>...</th>\n      <th>Preparation to midterm exams 1</th>\n      <th>Preparation to midterm exams 2</th>\n      <th>Taking notes in classes</th>\n      <th>Listening in classes</th>\n      <th>Discussion improves my interest and success in the course</th>\n      <th>Flip-classroom</th>\n      <th>Cumulative grade point average in the last semester (/4.00)</th>\n      <th>Expected Cumulative grade point average in the graduation (/4.00)</th>\n      <th>COURSE ID</th>\n      <th>Success</th>\n    </tr>\n  </thead>\n  <tbody>\n    <tr>\n      <th>0</th>\n      <td>2</td>\n      <td>2</td>\n      <td>3</td>\n      <td>3</td>\n      <td>1</td>\n      <td>2</td>\n      <td>2</td>\n      <td>1</td>\n      <td>1</td>\n      <td>1</td>\n      <td>...</td>\n      <td>1</td>\n      <td>1</td>\n      <td>3</td>\n      <td>2</td>\n      <td>1</td>\n      <td>2</td>\n      <td>1</td>\n      <td>1</td>\n      <td>1</td>\n      <td>0</td>\n    </tr>\n    <tr>\n      <th>1</th>\n      <td>2</td>\n      <td>2</td>\n      <td>3</td>\n      <td>3</td>\n      <td>1</td>\n      <td>2</td>\n      <td>2</td>\n      <td>1</td>\n      <td>1</td>\n      <td>1</td>\n      <td>...</td>\n      <td>1</td>\n      <td>1</td>\n      <td>3</td>\n      <td>2</td>\n      <td>3</td>\n      <td>2</td>\n      <td>2</td>\n      <td>3</td>\n      <td>1</td>\n      <td>0</td>\n    </tr>\n    <tr>\n      <th>2</th>\n      <td>2</td>\n      <td>2</td>\n      <td>2</td>\n      <td>3</td>\n      <td>2</td>\n      <td>2</td>\n      <td>2</td>\n      <td>2</td>\n      <td>4</td>\n      <td>2</td>\n      <td>...</td>\n      <td>1</td>\n      <td>1</td>\n      <td>2</td>\n      <td>2</td>\n      <td>1</td>\n      <td>1</td>\n      <td>2</td>\n      <td>2</td>\n      <td>1</td>\n      <td>0</td>\n    </tr>\n    <tr>\n      <th>3</th>\n      <td>1</td>\n      <td>1</td>\n      <td>1</td>\n      <td>3</td>\n      <td>1</td>\n      <td>2</td>\n      <td>1</td>\n      <td>2</td>\n      <td>1</td>\n      <td>2</td>\n      <td>...</td>\n      <td>1</td>\n      <td>2</td>\n      <td>3</td>\n      <td>2</td>\n      <td>2</td>\n      <td>1</td>\n      <td>3</td>\n      <td>2</td>\n      <td>1</td>\n      <td>0</td>\n    </tr>\n    <tr>\n      <th>4</th>\n      <td>2</td>\n      <td>2</td>\n      <td>1</td>\n      <td>3</td>\n      <td>2</td>\n      <td>2</td>\n      <td>1</td>\n      <td>3</td>\n      <td>1</td>\n      <td>4</td>\n      <td>...</td>\n      <td>2</td>\n      <td>1</td>\n      <td>2</td>\n      <td>2</td>\n      <td>2</td>\n      <td>1</td>\n      <td>2</td>\n      <td>2</td>\n      <td>1</td>\n      <td>0</td>\n    </tr>\n    <tr>\n      <th>...</th>\n      <td>...</td>\n      <td>...</td>\n      <td>...</td>\n      <td>...</td>\n      <td>...</td>\n      <td>...</td>\n      <td>...</td>\n      <td>...</td>\n      <td>...</td>\n      <td>...</td>\n      <td>...</td>\n      <td>...</td>\n      <td>...</td>\n      <td>...</td>\n      <td>...</td>\n      <td>...</td>\n      <td>...</td>\n      <td>...</td>\n      <td>...</td>\n      <td>...</td>\n      <td>...</td>\n    </tr>\n    <tr>\n      <th>140</th>\n      <td>2</td>\n      <td>1</td>\n      <td>2</td>\n      <td>3</td>\n      <td>1</td>\n      <td>1</td>\n      <td>2</td>\n      <td>1</td>\n      <td>1</td>\n      <td>2</td>\n      <td>...</td>\n      <td>1</td>\n      <td>1</td>\n      <td>2</td>\n      <td>1</td>\n      <td>2</td>\n      <td>1</td>\n      <td>3</td>\n      <td>3</td>\n      <td>9</td>\n      <td>1</td>\n    </tr>\n    <tr>\n      <th>141</th>\n      <td>1</td>\n      <td>1</td>\n      <td>2</td>\n      <td>4</td>\n      <td>2</td>\n      <td>2</td>\n      <td>2</td>\n      <td>1</td>\n      <td>4</td>\n      <td>2</td>\n      <td>...</td>\n      <td>1</td>\n      <td>1</td>\n      <td>3</td>\n      <td>2</td>\n      <td>2</td>\n      <td>1</td>\n      <td>5</td>\n      <td>3</td>\n      <td>9</td>\n      <td>1</td>\n    </tr>\n    <tr>\n      <th>142</th>\n      <td>1</td>\n      <td>1</td>\n      <td>1</td>\n      <td>4</td>\n      <td>2</td>\n      <td>2</td>\n      <td>2</td>\n      <td>1</td>\n      <td>1</td>\n      <td>1</td>\n      <td>...</td>\n      <td>1</td>\n      <td>1</td>\n      <td>3</td>\n      <td>3</td>\n      <td>2</td>\n      <td>1</td>\n      <td>4</td>\n      <td>3</td>\n      <td>9</td>\n      <td>0</td>\n    </tr>\n    <tr>\n      <th>143</th>\n      <td>2</td>\n      <td>1</td>\n      <td>2</td>\n      <td>4</td>\n      <td>1</td>\n      <td>1</td>\n      <td>1</td>\n      <td>5</td>\n      <td>2</td>\n      <td>3</td>\n      <td>...</td>\n      <td>2</td>\n      <td>1</td>\n      <td>2</td>\n      <td>1</td>\n      <td>2</td>\n      <td>1</td>\n      <td>5</td>\n      <td>3</td>\n      <td>9</td>\n      <td>1</td>\n    </tr>\n    <tr>\n      <th>144</th>\n      <td>1</td>\n      <td>1</td>\n      <td>1</td>\n      <td>5</td>\n      <td>2</td>\n      <td>2</td>\n      <td>2</td>\n      <td>3</td>\n      <td>1</td>\n      <td>1</td>\n      <td>...</td>\n      <td>2</td>\n      <td>1</td>\n      <td>3</td>\n      <td>2</td>\n      <td>3</td>\n      <td>1</td>\n      <td>5</td>\n      <td>4</td>\n      <td>9</td>\n      <td>1</td>\n    </tr>\n  </tbody>\n</table>\n<p>145 rows × 32 columns</p>\n</div>"
     },
     "execution_count": 65,
     "metadata": {},
     "output_type": "execute_result"
    }
   ],
   "source": [
    "original_data = pd.read_csv('DATA.csv')\n",
    "original_data.drop('STUDENT ID', axis=1, inplace=True)\n",
    "\n",
    "# Определяем порог успешности \n",
    "success_threshold = 3\n",
    "\n",
    "# Добавляем новый столбец 'Success' на основании порога\n",
    "original_data['Success'] = (original_data['GRADE'] >= success_threshold).astype(int)\n",
    "original_data.drop('GRADE', axis=1, inplace=True)\n",
    "\n",
    "original_data"
   ],
   "metadata": {
    "collapsed": false,
    "ExecuteTime": {
     "end_time": "2024-10-28T12:02:21.075230Z",
     "start_time": "2024-10-28T12:02:21.039642700Z"
    }
   },
   "id": "2d9aff97e9eaf55b",
   "execution_count": 65
  },
  {
   "cell_type": "markdown",
   "source": [
    "### Случайный отбор sqrt(n) признаков"
   ],
   "metadata": {
    "collapsed": false
   },
   "id": "c033812524256f6c"
  },
  {
   "cell_type": "code",
   "outputs": [
    {
     "data": {
      "text/plain": "     Taking notes in classes  Flip-classroom  \\\n0                          3               2   \n1                          3               2   \n2                          2               1   \n3                          3               1   \n4                          2               1   \n..                       ...             ...   \n140                        2               1   \n141                        3               1   \n142                        3               1   \n143                        2               1   \n144                        3               1   \n\n     Attendance to the seminars/conferences related to the department  \\\n0                                                    1                  \n1                                                    1                  \n2                                                    1                  \n3                                                    1                  \n4                                                    1                  \n..                                                 ...                  \n140                                                  1                  \n141                                                  2                  \n142                                                  1                  \n143                                                  1                  \n144                                                  1                  \n\n     Discussion improves my interest and success in the course  Sex  Success  \n0                                                    1            2        0  \n1                                                    3            2        0  \n2                                                    1            2        0  \n3                                                    2            1        0  \n4                                                    2            2        0  \n..                                                 ...          ...      ...  \n140                                                  2            1        1  \n141                                                  2            1        1  \n142                                                  2            1        0  \n143                                                  2            1        1  \n144                                                  3            1        1  \n\n[145 rows x 6 columns]",
      "text/html": "<div>\n<style scoped>\n    .dataframe tbody tr th:only-of-type {\n        vertical-align: middle;\n    }\n\n    .dataframe tbody tr th {\n        vertical-align: top;\n    }\n\n    .dataframe thead th {\n        text-align: right;\n    }\n</style>\n<table border=\"1\" class=\"dataframe\">\n  <thead>\n    <tr style=\"text-align: right;\">\n      <th></th>\n      <th>Taking notes in classes</th>\n      <th>Flip-classroom</th>\n      <th>Attendance to the seminars/conferences related to the department</th>\n      <th>Discussion improves my interest and success in the course</th>\n      <th>Sex</th>\n      <th>Success</th>\n    </tr>\n  </thead>\n  <tbody>\n    <tr>\n      <th>0</th>\n      <td>3</td>\n      <td>2</td>\n      <td>1</td>\n      <td>1</td>\n      <td>2</td>\n      <td>0</td>\n    </tr>\n    <tr>\n      <th>1</th>\n      <td>3</td>\n      <td>2</td>\n      <td>1</td>\n      <td>3</td>\n      <td>2</td>\n      <td>0</td>\n    </tr>\n    <tr>\n      <th>2</th>\n      <td>2</td>\n      <td>1</td>\n      <td>1</td>\n      <td>1</td>\n      <td>2</td>\n      <td>0</td>\n    </tr>\n    <tr>\n      <th>3</th>\n      <td>3</td>\n      <td>1</td>\n      <td>1</td>\n      <td>2</td>\n      <td>1</td>\n      <td>0</td>\n    </tr>\n    <tr>\n      <th>4</th>\n      <td>2</td>\n      <td>1</td>\n      <td>1</td>\n      <td>2</td>\n      <td>2</td>\n      <td>0</td>\n    </tr>\n    <tr>\n      <th>...</th>\n      <td>...</td>\n      <td>...</td>\n      <td>...</td>\n      <td>...</td>\n      <td>...</td>\n      <td>...</td>\n    </tr>\n    <tr>\n      <th>140</th>\n      <td>2</td>\n      <td>1</td>\n      <td>1</td>\n      <td>2</td>\n      <td>1</td>\n      <td>1</td>\n    </tr>\n    <tr>\n      <th>141</th>\n      <td>3</td>\n      <td>1</td>\n      <td>2</td>\n      <td>2</td>\n      <td>1</td>\n      <td>1</td>\n    </tr>\n    <tr>\n      <th>142</th>\n      <td>3</td>\n      <td>1</td>\n      <td>1</td>\n      <td>2</td>\n      <td>1</td>\n      <td>0</td>\n    </tr>\n    <tr>\n      <th>143</th>\n      <td>2</td>\n      <td>1</td>\n      <td>1</td>\n      <td>2</td>\n      <td>1</td>\n      <td>1</td>\n    </tr>\n    <tr>\n      <th>144</th>\n      <td>3</td>\n      <td>1</td>\n      <td>1</td>\n      <td>3</td>\n      <td>1</td>\n      <td>1</td>\n    </tr>\n  </tbody>\n</table>\n<p>145 rows × 6 columns</p>\n</div>"
     },
     "execution_count": 76,
     "metadata": {},
     "output_type": "execute_result"
    }
   ],
   "source": [
    "count_of_columns = int(np.sqrt(len(original_data.columns)))\n",
    "random_columns = original_data.sample(n=count_of_columns, axis='columns')\n",
    "data = original_data[random_columns.columns].copy()\n",
    "data['Success'] = original_data['Success']\n",
    "data"
   ],
   "metadata": {
    "collapsed": false,
    "ExecuteTime": {
     "end_time": "2024-10-28T12:45:28.127658400Z",
     "start_time": "2024-10-28T12:45:28.106636600Z"
    }
   },
   "id": "52822fcde0290cd5",
   "execution_count": 76
  },
  {
   "cell_type": "markdown",
   "source": [
    "### Реализация дерева решения для классификации\n",
    "\n",
    "+ Узел - Внутренний узел дерева, узел проверки\n",
    "+ Корневой узел - начальный узел дерева решений\n",
    "+ Лист - конечный узел дерева, узел решения\n",
    "\n",
    "#### Выбор атрибута разбиения\n",
    "##### Теоретико-информационный критерий\n",
    "$$H=-\\sum^n_{i=1}\\frac{N_i}{N}\\log_2{(\\frac{N_i}{N})}$$\n",
    "$H$ - энтропия\n",
    "$n$ - число классов в исходном подмножестве\n",
    "$N_i$ - число примеров $i$-го класса\n",
    "$N$ - общее число примеров в подмножестве   \n",
    "$$Gain(A)=Info(S)-Info(S_A)$$\n",
    "$Info(S)$ - информация, связанная с подмножеством $S$ до разбиения\n",
    "$Info(S_A)$ - информация, связанная с подмножеством $S$ после разбиения по атрибуту $A$.\n",
    "Лучшим атрибутом разбиения $A_j$ будет тот, который обеспечит максимальный прирост информации результирующего узла относительно исходного\n",
    "##### Статистический подход\n",
    "$$Gini(Q)=1-\\sum^n_{i=1}p^2_i$$\n",
    "$Q$ - результирующее множество\n",
    "$n$ - число классов в нем\n",
    "$p_i$ - вероятность $i$-го класса (выраженная, как относительная частота примеров соответствующего класса)\n",
    "Данный показатель меняется от 0 (если все примеры Q относятся к одному классу) до 1 (если классы представлены в равных пропорциях). Лучшим будет то разбиение, для которого значение индекса Джини будет минимальным. \n",
    "Он показывает насколько часто случайно выбранный пример обучающего множества будет распознан неправильно"
   ],
   "metadata": {
    "collapsed": false
   },
   "id": "39962bd1731fc852"
  },
  {
   "cell_type": "code",
   "outputs": [
    {
     "name": "stdout",
     "output_type": "stream",
     "text": [
      "[0 1 0 0 0 0 1 0 1 0 0 0 0 0 0 0 0 0 0 1 0 1 1 1 1 1 1 0 1 1 1 1 1 0 0 0 0\n",
      " 1 1 0 0 1 0 1 0 0 0 1 1 0 0 0 1 0 1 1 1 1 1 1 0 1 1 0 1 0 1 0 1 1 0 1 1 1\n",
      " 1 1 0 0 1 1 1 1 1 1 1 1 1 1 1 1 0 1 1 1 1 0 1 0 0 1 0 0 1 1 0 0 0 1 1 1 0\n",
      " 0 0 0 0 0 0 0 1 0 0 0 0 0 0 0 1 0 0 0 0 0 0 0 0 0 0 1 0 0 1 0 0 1 1]\n"
     ]
    }
   ],
   "source": [
    "# Класс узла дерева.\n",
    "# Используется для хранения информации об узлах.\n",
    "# Объект этого узла может быть либо промежуточным узлом, либо листом.\n",
    "class TreeNode:\n",
    "    def __init__(self, feature=None, threshold=None, left=None, right=None, *, value=None):\n",
    "        self.feature = feature      # Признак, по которому делаем разбиение\n",
    "        self.threshold = threshold  # Порог для разбиения\n",
    "        self.left = left            # Левое поддерево (<= порога)\n",
    "        self.right = right          # Правое дерево (> порога)\n",
    "        self.value = value          # Значение класса, если узел является листом\n",
    "        \n",
    "    def is_leaf_node(self):\n",
    "        return self.value is not None\n",
    "    \n",
    "# Функция для вычисления индекса Джини\n",
    "def gini(y):\n",
    "    # counts - количество каждого уникального класса в y\n",
    "    _, counts = np.unique(y, return_counts=True)\n",
    "    probabilities = counts / counts.sum()\n",
    "    return 1 - np.sum(probabilities ** 2)\n",
    "\n",
    "\n",
    "# Функция для поиска лучшего разбиения\n",
    "def best_split(X, y):\n",
    "    best_feature, best_threshold = None, None\n",
    "    best_gini = float('inf') # максимальное возможное значение\n",
    "    # кол-во строк и кол-во признаков в X \n",
    "    n_samples, n_features = X.shape \n",
    "    \n",
    "    # цикл по каждому признаку X\n",
    "    for feature in range(n_features):\n",
    "        # для текущего признака получаем уникальные значения, как потенциальные пороги для разбиения\n",
    "        thresholds = np.unique(X[:, feature])\n",
    "        \n",
    "        for threshold in thresholds:\n",
    "            # подмножества для каждого threshold\n",
    "            left_indices = X[:, feature] <= threshold \n",
    "            right_indices = X[:, feature] > threshold\n",
    "            # проверяем, что и левая и правая группы содержат хотя бы один элемент\n",
    "            if sum(left_indices) == 0 or sum(right_indices) == 0:\n",
    "                continue\n",
    "            \n",
    "            # вычисляем gini для разбиения\n",
    "            gini_left = gini(y[left_indices])    # индекс Джини для левой группы\n",
    "            gini_right = gini(y[right_indices])  # индекс Джини для правой группы\n",
    "            # взвешенный индекс Джини для текущего разбиения\n",
    "            # вклад каждой группы пропорционален числу элементов в ней относительно общего числа элементов\n",
    "            gini_split = (sum(left_indices) * gini_left + sum(right_indices) * gini_right) / n_samples \n",
    "            \n",
    "            if gini_split < best_gini:\n",
    "                best_gini = gini_split\n",
    "                best_feature = feature\n",
    "                best_threshold = threshold\n",
    "    \n",
    "    return best_feature, best_threshold\n",
    "    \n",
    "    \n",
    "# Функция для построения дерева\n",
    "# рекурсивно строит дерево решений, добавляя узлы и разбиения до достижения условий остановки\n",
    "# X - данные признаков, по которым будет строиться дерево;\n",
    "# y - целевые ветки для бинарной классификации;\n",
    "# depth - текущая глубина узла в дереве (по умолчанию 0).\n",
    "# max_depth - максимальная глубина дерева, которая ограничивает его рост(по умолчанию 10).\n",
    "def build_tree(X, y, depth=0, max_depth=10):\n",
    "    n_samples, n_features = X.shape\n",
    "    num_classes = len(np.unique(y)) # кол-во уникальных классов в целевых значениях y\n",
    "    \n",
    "    # условия остановки \n",
    "    if depth > max_depth or num_classes == 1 or n_samples < 2:\n",
    "        leaf_value = np.bincount(y).argmax()\n",
    "        return TreeNode(value=leaf_value)\n",
    "        \n",
    "    # выбираем лучшее разбиение, если признак не найден, узел объявляется листом с наиболее часто встречающимся классом\n",
    "    feature, threshold = best_split(X, y)\n",
    "    if feature is None:\n",
    "        leaf_value = np.bincount(y).argmax()\n",
    "        return TreeNode(value=leaf_value)\n",
    "    \n",
    "    # рекурсивное разбиение данных\n",
    "    left_indices = X[:, feature] <= threshold\n",
    "    right_indices = X[:, feature] > threshold\n",
    "    # создание поддеревьев\n",
    "    left_subtree = build_tree(X[left_indices], y[left_indices], depth + 1, max_depth)\n",
    "    right_subtree = build_tree(X[right_indices], y[right_indices], depth + 1, max_depth)\n",
    "    # создается и возвращается узел дерева с текущим признаком, порогом и двумя дочерними поддеревьями\n",
    "    return TreeNode(feature, threshold, left_subtree, right_subtree)\n",
    "    \n",
    "\n",
    "# Функция предсказания для одного образца\n",
    "def predict_tree(node, x):\n",
    "    if node.is_leaf_node():\n",
    "        return node.value\n",
    "    if x[node.feature] <= node.threshold:\n",
    "        return predict_tree(node.left, x)\n",
    "    else:\n",
    "        return predict_tree(node.right, x)\n",
    " \n",
    " \n",
    "# Основная функция предсказания\n",
    "def predict(X, tree):\n",
    "    return np.array([predict_tree(tree, x) for x in X])\n",
    "\n",
    "\n",
    "# Выделяем целевую метку и признаки\n",
    "X = data.drop(columns=['Success']).values  # Признаки (без GRADE и Success)\n",
    "y = data['Success'].values  # Целевая метка успешности\n",
    "\n",
    "tree = build_tree(X, y, max_depth=10)\n",
    "\n",
    "predictions = predict(X, tree)\n",
    "print(predictions)"
   ],
   "metadata": {
    "collapsed": false,
    "ExecuteTime": {
     "end_time": "2024-10-28T12:45:29.119945900Z",
     "start_time": "2024-10-28T12:45:29.080891700Z"
    }
   },
   "id": "caae6d6b21f761ef",
   "execution_count": 77
  },
  {
   "cell_type": "markdown",
   "source": [
    "### Оценка алгоритма\n",
    "1. *Accuracy*: Доля правильных предсказаний от общего числа предсказаний.\n",
    "2. *Precision*: Доля верных положительных предсказаний (True Positives) от всех положительных предсказаний (True Positives + False Positives).\n",
    "3. *Reacll*: Доля верных положительных предсказаний от всех истинных положительных (True Positives + False Negatives)."
   ],
   "metadata": {
    "collapsed": false
   },
   "id": "72adc36a1022d364"
  },
  {
   "cell_type": "code",
   "outputs": [
    {
     "name": "stdout",
     "output_type": "stream",
     "text": [
      "Accuracy: 0.7517\n",
      "Precision: 0.8088\n",
      "Recall: 0.7051\n"
     ]
    }
   ],
   "source": [
    "# Функция для вычисления метрик\n",
    "def calculate_metrics(y_true, y_pred):\n",
    "    # Подсчет True Positives, False Positives, True Negatives, False Negatives\n",
    "    TP = np.sum((y_true == 1) & (y_pred == 1))\n",
    "    FP = np.sum((y_true == 0) & (y_pred == 1))\n",
    "    TN = np.sum((y_true == 0) & (y_pred == 0))\n",
    "    FN = np.sum((y_true == 1) & (y_pred == 0))\n",
    "    \n",
    "    # Рассчет метрик\n",
    "    accuracy = (TP + TN) / len(y_true)\n",
    "    precision = TP / (TP + FP) if (TP + FP) > 0 else 0\n",
    "    recall = TP / (TP + FN) if (TP + FN) > 0 else 0\n",
    "    \n",
    "    \n",
    "    return accuracy, precision, recall\n",
    "\n",
    "# Оценка модели\n",
    "accuracy, precision, recall = calculate_metrics(y, predictions)\n",
    "\n",
    "print(f'Accuracy: {accuracy:.4f}')\n",
    "print(f'Precision: {precision:.4f}')\n",
    "print(f'Recall: {recall:.4f}')"
   ],
   "metadata": {
    "collapsed": false,
    "ExecuteTime": {
     "end_time": "2024-10-28T12:45:30.123237200Z",
     "start_time": "2024-10-28T12:45:30.113953Z"
    }
   },
   "id": "420271bf49f3e20e",
   "execution_count": 78
  },
  {
   "cell_type": "markdown",
   "source": [
    "### Построение кривых AUC-ROC и AUC-PR"
   ],
   "metadata": {
    "collapsed": false
   },
   "id": "37dc9c81995973f8"
  },
  {
   "cell_type": "code",
   "outputs": [],
   "source": [],
   "metadata": {
    "collapsed": false
   },
   "id": "f901fa1cb693f66e"
  }
 ],
 "metadata": {
  "kernelspec": {
   "display_name": "Python 3",
   "language": "python",
   "name": "python3"
  },
  "language_info": {
   "codemirror_mode": {
    "name": "ipython",
    "version": 2
   },
   "file_extension": ".py",
   "mimetype": "text/x-python",
   "name": "python",
   "nbconvert_exporter": "python",
   "pygments_lexer": "ipython2",
   "version": "2.7.6"
  }
 },
 "nbformat": 4,
 "nbformat_minor": 5
}
